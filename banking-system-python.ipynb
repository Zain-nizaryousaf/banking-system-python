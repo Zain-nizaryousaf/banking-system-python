{
 "cells": [
  {
   "cell_type": "code",
   "execution_count": null,
   "id": "a8567ccc-1b91-40fc-9cb0-62130fd4e935",
   "metadata": {},
   "outputs": [
    {
     "name": "stdout",
     "output_type": "stream",
     "text": [
      "Welcome to ABC Bank\n",
      "\n",
      "1. Create Account\n",
      "2. Login\n",
      "3. Exit\n"
     ]
    },
    {
     "name": "stdin",
     "output_type": "stream",
     "text": [
      "Enter your choice:  1\n",
      "Enter your name:  ruksana\n",
      "Enter initial balance:  200000\n",
      "Create a 4-digit PIN:  ········\n",
      "Create a password:  ········\n"
     ]
    },
    {
     "name": "stdout",
     "output_type": "stream",
     "text": [
      "Account created successfully! Your account number is: 32022\n",
      "\n",
      "1. Create Account\n",
      "2. Login\n",
      "3. Exit\n"
     ]
    },
    {
     "name": "stdin",
     "output_type": "stream",
     "text": [
      "Enter your choice:  2\n",
      "Enter account number:  32022\n",
      "Enter PIN:  ········\n",
      "Enter password:  ········\n"
     ]
    },
    {
     "name": "stdout",
     "output_type": "stream",
     "text": [
      "Logged in as ruksana\n",
      "\n",
      "1. Deposit\n",
      "2. Withdraw\n",
      "3. Transfer\n",
      "4. Transaction History\n",
      "5. Generate Statement\n",
      "6. Logout\n"
     ]
    },
    {
     "name": "stdin",
     "output_type": "stream",
     "text": [
      "Enter your choice:  1\n",
      "Enter amount to deposit:  10000\n"
     ]
    },
    {
     "name": "stdout",
     "output_type": "stream",
     "text": [
      "Amount deposited successfully!\n",
      "\n",
      "1. Deposit\n",
      "2. Withdraw\n",
      "3. Transfer\n",
      "4. Transaction History\n",
      "5. Generate Statement\n",
      "6. Logout\n"
     ]
    },
    {
     "name": "stdin",
     "output_type": "stream",
     "text": [
      "Enter your choice:  5\n"
     ]
    },
    {
     "name": "stdout",
     "output_type": "stream",
     "text": [
      "Account Statement for Account Number: 32022\n",
      "Name: ruksana\n",
      "Balance: 210000.0\n",
      "Transaction History:\n",
      "- Deposited: 10000.0\n",
      "\n",
      "\n",
      "1. Deposit\n",
      "2. Withdraw\n",
      "3. Transfer\n",
      "4. Transaction History\n",
      "5. Generate Statement\n",
      "6. Logout\n"
     ]
    },
    {
     "name": "stdin",
     "output_type": "stream",
     "text": [
      "Enter your choice:  6\n"
     ]
    },
    {
     "name": "stdout",
     "output_type": "stream",
     "text": [
      "\n",
      "1. Create Account\n",
      "2. Login\n",
      "3. Exit\n"
     ]
    },
    {
     "name": "stdin",
     "output_type": "stream",
     "text": [
      "Enter your choice:  1\n",
      "Enter your name:  zain\n",
      "Enter initial balance:  100\n",
      "Create a 4-digit PIN:  ········\n",
      "Create a password:  ········\n"
     ]
    },
    {
     "name": "stdout",
     "output_type": "stream",
     "text": [
      "Account created successfully! Your account number is: 62899\n",
      "\n",
      "1. Create Account\n",
      "2. Login\n",
      "3. Exit\n"
     ]
    },
    {
     "name": "stdin",
     "output_type": "stream",
     "text": [
      "Enter your choice:  2\n",
      "Enter account number:  32022\n",
      "Enter PIN:  ········\n",
      "Enter password:  ········\n"
     ]
    },
    {
     "name": "stdout",
     "output_type": "stream",
     "text": [
      "Logged in as ruksana\n",
      "\n",
      "1. Deposit\n",
      "2. Withdraw\n",
      "3. Transfer\n",
      "4. Transaction History\n",
      "5. Generate Statement\n",
      "6. Logout\n"
     ]
    },
    {
     "name": "stdin",
     "output_type": "stream",
     "text": [
      "Enter your choice:  3\n",
      "Enter receiver's account number:  62899\n",
      "Enter amount to transfer:  2000\n"
     ]
    },
    {
     "name": "stdout",
     "output_type": "stream",
     "text": [
      "Amount transferred successfully!\n",
      "\n",
      "1. Deposit\n",
      "2. Withdraw\n",
      "3. Transfer\n",
      "4. Transaction History\n",
      "5. Generate Statement\n",
      "6. Logout\n"
     ]
    },
    {
     "name": "stdin",
     "output_type": "stream",
     "text": [
      "Enter your choice:  4\n"
     ]
    },
    {
     "name": "stdout",
     "output_type": "stream",
     "text": [
      "Transaction History:\n",
      "Deposited: 10000.0\n",
      "Withdrew: 2000.0\n",
      "Transferred: 2000.0 to 62899\n",
      "\n",
      "1. Deposit\n",
      "2. Withdraw\n",
      "3. Transfer\n",
      "4. Transaction History\n",
      "5. Generate Statement\n",
      "6. Logout\n"
     ]
    },
    {
     "name": "stdin",
     "output_type": "stream",
     "text": [
      "Enter your choice:  6\n"
     ]
    },
    {
     "name": "stdout",
     "output_type": "stream",
     "text": [
      "\n",
      "1. Create Account\n",
      "2. Login\n",
      "3. Exit\n"
     ]
    }
   ],
   "source": [
    "import random\n",
    "import hashlib\n",
    "import getpass\n",
    "\n",
    "class Bank:\n",
    "    def __init__(self):\n",
    "        self.accounts = {}\n",
    "\n",
    "    def create_account(self, name, initial_balance, pin, password):\n",
    "        account_number = random.randint(10000, 99999)\n",
    "        password_hash = hashlib.sha256(password.encode()).hexdigest()\n",
    "        pin_hash = hashlib.sha256(pin.encode()).hexdigest()\n",
    "        self.accounts[account_number] = {\n",
    "            'name': name,\n",
    "            'balance': initial_balance,\n",
    "            'pin': pin_hash,\n",
    "            'password': password_hash,\n",
    "            'transactions': []\n",
    "        }\n",
    "        return account_number\n",
    "\n",
    "    def login(self, account_number, pin, password):\n",
    "        account = self.accounts.get(account_number)\n",
    "        if account and account['pin'] == hashlib.sha256(pin.encode()).hexdigest() and account['password'] == hashlib.sha256(password.encode()).hexdigest():\n",
    "            return account_number, account\n",
    "        return None, None\n",
    "\n",
    "    def deposit(self, account_number, amount):\n",
    "        if amount > 0:\n",
    "            self.accounts[account_number]['balance'] += amount\n",
    "            self.accounts[account_number]['transactions'].append(f\"Deposited: {amount}\")\n",
    "\n",
    "    def withdraw(self, account_number, amount):\n",
    "        if amount > 0 and amount <= self.accounts[account_number]['balance']:\n",
    "            self.accounts[account_number]['balance'] -= amount\n",
    "            self.accounts[account_number]['transactions'].append(f\"Withdrew: {amount}\")\n",
    "\n",
    "    def transfer(self, sender_account_number, receiver_account_number, amount):\n",
    "        if amount > 0 and amount <= self.accounts[sender_account_number]['balance']:\n",
    "            self.withdraw(sender_account_number, amount)\n",
    "            self.deposit(receiver_account_number, amount)\n",
    "            self.accounts[sender_account_number]['transactions'].append(f\"Transferred: {amount} to {receiver_account_number}\")\n",
    "            self.accounts[receiver_account_number]['transactions'].append(f\"Received: {amount} from {sender_account_number}\")\n",
    "\n",
    "    def transaction_history(self, account_number):\n",
    "        return self.accounts[account_number]['transactions']\n",
    "\n",
    "    def generate_statement(self, account_number):\n",
    "        statement = f\"Account Statement for Account Number: {account_number}\\n\"\n",
    "        statement += f\"Name: {self.accounts[account_number]['name']}\\n\"\n",
    "        statement += f\"Balance: {self.accounts[account_number]['balance']}\\n\"\n",
    "        statement += \"Transaction History:\\n\"\n",
    "        for transaction in self.accounts[account_number]['transactions']:\n",
    "            statement += f\"- {transaction}\\n\"\n",
    "        return statement\n",
    "\n",
    "# Example usage:\n",
    "bank = Bank()\n",
    "\n",
    "def create_account():\n",
    "    name = input(\"Enter your name: \")\n",
    "    initial_balance = float(input(\"Enter initial balance: \"))\n",
    "    pin = getpass.getpass(\"Create a 4-digit PIN: \")\n",
    "    password = getpass.getpass(\"Create a password: \")\n",
    "    account_number = bank.create_account(name, initial_balance, pin, password)\n",
    "    print(f\"Account created successfully! Your account number is: {account_number}\")\n",
    "\n",
    "def login():\n",
    "    account_number = int(input(\"Enter account number: \"))\n",
    "    pin = getpass.getpass(\"Enter PIN: \")\n",
    "    password = getpass.getpass(\"Enter password: \")\n",
    "    account_number, logged_in_account = bank.login(account_number, pin, password)\n",
    "    if logged_in_account:\n",
    "        print(f\"Logged in as {logged_in_account['name']}\")\n",
    "        return account_number, logged_in_account\n",
    "    else:\n",
    "        print(\"Invalid account number, PIN, or password.\")\n",
    "        return None, None\n",
    "\n",
    "def main_menu():\n",
    "    print(\"\\n1. Deposit\\n2. Withdraw\\n3. Transfer\\n4. Transaction History\\n5. Generate Statement\\n6. Logout\")\n",
    "    choice = input(\"Enter your choice: \")\n",
    "    return choice\n",
    "\n",
    "def deposit(account_number):\n",
    "    amount = float(input(\"Enter amount to deposit: \"))\n",
    "    bank.deposit(account_number, amount)\n",
    "    print(\"Amount deposited successfully!\")\n",
    "\n",
    "def withdraw(account_number):\n",
    "    amount = float(input(\"Enter amount to withdraw: \"))\n",
    "    bank.withdraw(account_number, amount)\n",
    "    print(\"Amount withdrawn successfully!\")\n",
    "\n",
    "def transfer(account_number):\n",
    "    receiver_account_number = int(input(\"Enter receiver's account number: \"))\n",
    "    amount = float(input(\"Enter amount to transfer: \"))\n",
    "    bank.transfer(account_number, receiver_account_number, amount)\n",
    "    print(\"Amount transferred successfully!\")\n",
    "\n",
    "def transaction_history(account_number):\n",
    "    print(\"Transaction History:\")\n",
    "    for transaction in bank.transaction_history(account_number):\n",
    "        print(transaction)\n",
    "\n",
    "def generate_statement(account_number):\n",
    "    statement = bank.generate_statement(account_number)\n",
    "    print(statement)\n",
    "\n",
    "def main():\n",
    "    print(\"Welcome to ABC Bank\")\n",
    "    logged_in_account = None\n",
    "    while True:\n",
    "        if not logged_in_account:\n",
    "            print(\"\\n1. Create Account\\n2. Login\\n3. Exit\")\n",
    "            choice = input(\"Enter your choice: \")\n",
    "            if choice == '1':\n",
    "                create_account()\n",
    "            elif choice == '2':\n",
    "                account_number, logged_in_account = login()\n",
    "            elif choice == '3':\n",
    "                break\n",
    "            else:\n",
    "                print(\"Invalid choice!\")\n",
    "        else:\n",
    "            choice = main_menu()\n",
    "            if choice == '1':\n",
    "                deposit(account_number)\n",
    "            elif choice == '2':\n",
    "                withdraw(account_number)\n",
    "            elif choice == '3':\n",
    "                transfer(account_number)\n",
    "            elif choice == '4':\n",
    "                transaction_history(account_number)\n",
    "            elif choice == '5':\n",
    "                generate_statement(account_number)\n",
    "            elif choice == '6':\n",
    "                logged_in_account = None\n",
    "            else:\n",
    "                print(\"Invalid choice!\")\n",
    "\n",
    "if __name__ == \"__main__\":\n",
    "    main()\n"
   ]
  },
  {
   "cell_type": "code",
   "execution_count": null,
   "id": "4b98a2d0-ba09-40d5-9fc7-200cccc8e31e",
   "metadata": {},
   "outputs": [],
   "source": []
  }
 ],
 "metadata": {
  "kernelspec": {
   "display_name": "Python 3 (ipykernel)",
   "language": "python",
   "name": "python3"
  },
  "language_info": {
   "codemirror_mode": {
    "name": "ipython",
    "version": 3
   },
   "file_extension": ".py",
   "mimetype": "text/x-python",
   "name": "python",
   "nbconvert_exporter": "python",
   "pygments_lexer": "ipython3",
   "version": "3.12.1"
  }
 },
 "nbformat": 4,
 "nbformat_minor": 5
}
